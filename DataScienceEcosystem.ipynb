{
 "cells": [
  {
   "cell_type": "markdown",
   "id": "f4a298a5",
   "metadata": {},
   "source": [
    "# Data Science Tools and Ecosystem"
   ]
  },
  {
   "cell_type": "markdown",
   "id": "04ab8d59",
   "metadata": {},
   "source": [
    "In this notebook, Data Science Tools and Ecosystem are summarized."
   ]
  },
  {
   "cell_type": "markdown",
   "id": "24cb81ae",
   "metadata": {},
   "source": [
    "**Objectives:**\n",
    "- List popular languages for Data science\n",
    "- List the commonly used libraries used by Data Scientists\n",
    "- List Data science tools\n",
    "- Run an arithmetic operation in Jupyter Notebook\n"
   ]
  },
  {
   "cell_type": "markdown",
   "id": "3af99326",
   "metadata": {},
   "source": [
    "Some of the popular languages that Data Scientists use are:"
   ]
  },
  {
   "cell_type": "markdown",
   "id": "f6c4def5",
   "metadata": {},
   "source": [
    "1. Python\n",
    "2. R\n",
    "3. Julia\n",
    "4. Java\n",
    "5. C/C++\n"
   ]
  },
  {
   "cell_type": "markdown",
   "id": "386f7251",
   "metadata": {},
   "source": [
    "Some of the commonly used libraries used by Data Scientists include:"
   ]
  },
  {
   "cell_type": "markdown",
   "id": "35dab385",
   "metadata": {},
   "source": [
    "1. Pandas\n",
    "2. Tensorflow\n",
    "3. scikit-learn"
   ]
  },
  {
   "cell_type": "markdown",
   "id": "c6c0e5ef",
   "metadata": {},
   "source": [
    "### Data science tools"
   ]
  },
  {
   "cell_type": "markdown",
   "id": "5e226673",
   "metadata": {},
   "source": [
    "<table>\n",
    "  <tr>\n",
    "    <th>Data Management</th>\n",
    "    <th>Data Integration and Transformation</th>\n",
    "    <th>Data Visualisation</th>\n",
    "    <th>Model Building</th>\n",
    "    <th>Model Deployment</th>\n",
    "    <th>Model Monitoring and assesment</th>\n",
    "  </tr>\n",
    "  <tr>\n",
    "    <td>PostgreSQL</td>\n",
    "    <td>Airflow</td>\n",
    "    <td>PixieDust</td>\n",
    "    <td>SPSS Modeler</td>\n",
    "    <td>PredictionIO</td>\n",
    "    <td>ModelDB</td>\n",
    "  </tr>\n",
    "  <tr>\n",
    "    <td>MongoDB</td>\n",
    "    <td>Kuteflow</td>\n",
    "    <td>Hue</td>\n",
    "    <td>SAS enterprise Miner</td>\n",
    "    <td>Tensorflow Serving</td>\n",
    "    <td>Prometheus</td>\n",
    "  </tr>\n",
    "    <tr>\n",
    "    <td>Hadoop</td>\n",
    "    <td>Kafka</td>\n",
    "    <td>Kibana</td>\n",
    "    <td></td>\n",
    "    <td>SELDON</td>\n",
    "    <td>IBM AI Fairner 360</td>\n",
    "  </tr>\n",
    "   <tr>\n",
    "    <td>MySQL</td>\n",
    "    <td>Apache Sparka</td>\n",
    "    <td>Superset</td>\n",
    "    <td></td>\n",
    "    <td></td>\n",
    "    <td>IBM AI Explainability 360</td>\n",
    "  </tr>\n",
    "</table>"
   ]
  },
  {
   "cell_type": "markdown",
   "id": "5b23b334",
   "metadata": {},
   "source": [
    "### Below are a few examples of evaluating arithmetic expressions in Python"
   ]
  },
  {
   "cell_type": "code",
   "execution_count": 15,
   "id": "3a113d1b",
   "metadata": {},
   "outputs": [
    {
     "data": {
      "text/plain": [
       "17"
      ]
     },
     "execution_count": 15,
     "metadata": {},
     "output_type": "execute_result"
    }
   ],
   "source": [
    "# This a simple arithmetic expression to mutiply then add integers\n",
    "\n",
    "(3*4)+5"
   ]
  },
  {
   "cell_type": "code",
   "execution_count": 16,
   "id": "e321d3d2",
   "metadata": {},
   "outputs": [
    {
     "data": {
      "text/plain": [
       "3.3333333333333335"
      ]
     },
     "execution_count": 16,
     "metadata": {},
     "output_type": "execute_result"
    }
   ],
   "source": [
    "# This will convert 200 minutes to hours by diving by 60\n",
    "\n",
    "200/60"
   ]
  },
  {
   "cell_type": "markdown",
   "id": "a86a49cb",
   "metadata": {},
   "source": [
    "## Author:\n",
    "RAKOTOARISOA Tolojanahary Finaritra"
   ]
  }
 ],
 "metadata": {
  "kernelspec": {
   "display_name": "Python 3 (ipykernel)",
   "language": "python",
   "name": "python3"
  },
  "language_info": {
   "codemirror_mode": {
    "name": "ipython",
    "version": 3
   },
   "file_extension": ".py",
   "mimetype": "text/x-python",
   "name": "python",
   "nbconvert_exporter": "python",
   "pygments_lexer": "ipython3",
   "version": "3.10.9"
  }
 },
 "nbformat": 4,
 "nbformat_minor": 5
}
