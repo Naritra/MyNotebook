{
 "cells": [
  {
   "cell_type": "markdown",
   "id": "bbfa6fa2",
   "metadata": {},
   "source": [
    "# Data Science Tools and Ecosystem"
   ]
  },
  {
   "cell_type": "markdown",
   "id": "fab521f6",
   "metadata": {},
   "source": [
    "In this notebook, Data Science Tools and Ecosystem are summarized."
   ]
  },
  {
   "cell_type": "markdown",
   "id": "9c9d2177",
   "metadata": {},
   "source": [
    "**Objectives:**\n",
    "- List popular languages for Data science\n",
    "- List the commonly used libraries used by Data Scientists\n",
    "- List Data science tools\n",
    "- Run an arithmetic operation in Jupyter Notebook\n"
   ]
  },
  {
   "cell_type": "markdown",
   "id": "60ebc3b5",
   "metadata": {},
   "source": [
    "Some of the popular languages that Data Scientists use are:"
   ]
  },
  {
   "cell_type": "markdown",
   "id": "cd2ba798",
   "metadata": {},
   "source": [
    "1. Python\n",
    "2. R\n",
    "3. Julia\n",
    "4. Java\n",
    "5. C/C++\n"
   ]
  },
  {
   "cell_type": "markdown",
   "id": "fb44da56",
   "metadata": {},
   "source": [
    "Some of the commonly used libraries used by Data Scientists include:"
   ]
  },
  {
   "cell_type": "markdown",
   "id": "da3ad04b",
   "metadata": {},
   "source": [
    "1. Pandas\n",
    "2. Tensorflow\n",
    "3. scikit-learn"
   ]
  },
  {
   "cell_type": "markdown",
   "id": "c50aed4e",
   "metadata": {},
   "source": [
    "<table>\n",
    "  <tr>\n",
    "    <th>Data science tools</th>\n",
    "  </tr>\n",
    "    \n",
    "  <tr>\n",
    "    <td>Kafka</td>\n",
    "  </tr>\n",
    "    \n",
    "  <tr>\n",
    "    <td>Kuteflow</td>\n",
    "  </tr>\n",
    "    \n",
    "  <tr>\n",
    "    <td>Hadoop</td> \n",
    "  </tr>\n",
    "    \n",
    "   <tr>  \n",
    "    <td>Apache Spark</td>    \n",
    "  </tr>\n",
    "</table>"
   ]
  },
  {
   "cell_type": "markdown",
   "id": "81837553",
   "metadata": {},
   "source": [
    "### Below are a few examples of evaluating arithmetic expressions in Python"
   ]
  },
  {
   "cell_type": "code",
   "execution_count": 15,
   "id": "fe8b52c3",
   "metadata": {},
   "outputs": [
    {
     "data": {
      "text/plain": [
       "17"
      ]
     },
     "execution_count": 15,
     "metadata": {},
     "output_type": "execute_result"
    }
   ],
   "source": [
    "# This a simple arithmetic expression to mutiply then add integers\n",
    "\n",
    "(3*4)+5"
   ]
  },
  {
   "cell_type": "code",
   "execution_count": 16,
   "id": "905da139",
   "metadata": {},
   "outputs": [
    {
     "data": {
      "text/plain": [
       "3.3333333333333335"
      ]
     },
     "execution_count": 16,
     "metadata": {},
     "output_type": "execute_result"
    }
   ],
   "source": [
    "# This will convert 200 minutes to hours by diving by 60\n",
    "\n",
    "200/60"
   ]
  },
  {
   "cell_type": "markdown",
   "id": "500e72d3",
   "metadata": {},
   "source": [
    "## Author:\n",
    "RAKOTOARISOA Tolojanahary Finaritra"
   ]
  }
 ],
 "metadata": {
  "kernelspec": {
   "display_name": "Python 3 (ipykernel)",
   "language": "python",
   "name": "python3"
  },
  "language_info": {
   "codemirror_mode": {
    "name": "ipython",
    "version": 3
   },
   "file_extension": ".py",
   "mimetype": "text/x-python",
   "name": "python",
   "nbconvert_exporter": "python",
   "pygments_lexer": "ipython3",
   "version": "3.10.9"
  }
 },
 "nbformat": 4,
 "nbformat_minor": 5
}
